{
  "nbformat": 4,
  "nbformat_minor": 0,
  "metadata": {
    "colab": {
      "provenance": [],
      "authorship_tag": "ABX9TyOBytcIstdaessAw9kYB6G0",
      "include_colab_link": true
    },
    "kernelspec": {
      "name": "python3",
      "display_name": "Python 3"
    },
    "language_info": {
      "name": "python"
    }
  },
  "cells": [
    {
      "cell_type": "markdown",
      "metadata": {
        "id": "view-in-github",
        "colab_type": "text"
      },
      "source": [
        "<a href=\"https://colab.research.google.com/github/taliahtarik/ml-project-group/blob/main/preanalysis.ipynb\" target=\"_parent\"><img src=\"https://colab.research.google.com/assets/colab-badge.svg\" alt=\"Open In Colab\"/></a>"
      ]
    },
    {
      "cell_type": "code",
      "execution_count": null,
      "metadata": {
        "id": "fn1R8Le1v2a-"
      },
      "outputs": [],
      "source": []
    },
    {
      "cell_type": "markdown",
      "source": [
        "1. What is an observation in your study?\n",
        "An observation in our study is an individual and includes data on factors that may\n",
        "contribute to that individual’s risk of developing obesity. Each observation can include dietary behaviors, such as calorie intake or the number of meals/day, and physical lifestyle __ such as frequency of exercise, intensity, and mode of transportation used. Our data also includes information on water and alcohol consumption. By defining each row in our dataset as an ‘observation’, we can analyze how these factors interact and contribute to various levels of obesity risk in the population.\n",
        "\n",
        "\n",
        "3. What models or algorithms do you plan to use in your analysis? How?\n",
        "For this analysis, logistic regression can be employed for its interpretability and ability to identify the significance of various lifestyles that are attributed to obesity. It can help us to identify which lifestyle factors (like calorie intake or physical activity frequency) are statistically significant in predicting different obesity categories.  Another mode of analysis can be decision trees which are ideal for capturing non-linear interactions, especially among dietary, physical, and lifestyle factors. These decision trees can reveal, for example, that individuals who exercise infrequently and consume a higher amount of calories are at a higher obesity risk. This will help in understanding how multiple variables impact obesity. A kNN model can be used as a comparison model that can reveal that individuals with similar lifestyles may have a similar obesity risk.\n"
      ],
      "metadata": {
        "id": "SVPLr0zDv25D"
      }
    }
  ]
}